{
 "cells": [
  {
   "cell_type": "code",
   "execution_count": 1,
   "metadata": {},
   "outputs": [],
   "source": [
    "from elasticsearch import Elasticsearch\n",
    "from utils import _pprint\n",
    "\n",
    "es = Elasticsearch()\n",
    "# usually put IP:Port as params to locate cluster,\n",
    "# here localhost:9200 by default"
   ]
  },
  {
   "cell_type": "code",
   "execution_count": 2,
   "metadata": {},
   "outputs": [],
   "source": [
    "# small query to fecth no of docs in our index\n",
    "idxn = 'book-index'\n",
    "\n",
    "doc_count = es.count( index = idxn,\n",
    "                    body = {\n",
    "                        'query' : {\n",
    "                            'match_all' : {}\n",
    "                        }\n",
    "                    })"
   ]
  },
  {
   "cell_type": "code",
   "execution_count": 7,
   "metadata": {},
   "outputs": [
    {
     "ename": "ModuleNotFoundError",
     "evalue": "No module named 'query_dsl_first_test'",
     "output_type": "error",
     "traceback": [
      "\u001b[0;31m------------------------------------------------------------------------\u001b[0m",
      "\u001b[0;31mModuleNotFoundError\u001b[0m                    Traceback (most recent call last)",
      "\u001b[0;32m<ipython-input-7-92081216587a>\u001b[0m in \u001b[0;36m<module>\u001b[0;34m\u001b[0m\n\u001b[1;32m      5\u001b[0m \u001b[0;31m#cwd = cwd in 'pdf_file_parsing' in cwd, else\u001b[0m\u001b[0;34m\u001b[0m\u001b[0;34m\u001b[0m\u001b[0;34m\u001b[0m\u001b[0m\n\u001b[1;32m      6\u001b[0m \u001b[0;34m\u001b[0m\u001b[0m\n\u001b[0;32m----> 7\u001b[0;31m from query_dsl_first_test import ( _get_book_fields,\n\u001b[0m\u001b[1;32m      8\u001b[0m                                     \u001b[0m_count_all_docs\u001b[0m\u001b[0;34m,\u001b[0m\u001b[0;34m\u001b[0m\u001b[0;34m\u001b[0m\u001b[0m\n\u001b[1;32m      9\u001b[0m                                     \u001b[0m_query_to_matchlist\u001b[0m\u001b[0;34m,\u001b[0m\u001b[0;34m\u001b[0m\u001b[0;34m\u001b[0m\u001b[0m\n",
      "\u001b[0;31mModuleNotFoundError\u001b[0m: No module named 'query_dsl_first_test'"
     ]
    }
   ],
   "source": [
    "# resolve nasty path problems\n",
    "import os, sys\n",
    "cwd = os.getcwd() ; sys.path.append(cwd)\n",
    "\n",
    "#cwd = cwd in 'pdf_file_parsing' in cwd, else \n",
    "\n",
    "from query_dsl_first_test import ( _get_book_fields,\n",
    "                                    _count_all_docs,\n",
    "                                    _query_to_matchlist,\n",
    "                                    _all_docs_by_id)"
   ]
  },
  {
   "cell_type": "code",
   "execution_count": 5,
   "metadata": {},
   "outputs": [
    {
     "data": {
      "text/plain": [
       "'/home/arnovel/ProgExercises/learn_elastic/pdf_file_parsing'"
      ]
     },
     "execution_count": 5,
     "metadata": {},
     "output_type": "execute_result"
    }
   ],
   "source": [
    "cwd"
   ]
  }
 ],
 "metadata": {
  "kernelspec": {
   "display_name": "Python 3",
   "language": "python",
   "name": "python3"
  },
  "language_info": {
   "codemirror_mode": {
    "name": "ipython",
    "version": 3
   },
   "file_extension": ".py",
   "mimetype": "text/x-python",
   "name": "python",
   "nbconvert_exporter": "python",
   "pygments_lexer": "ipython3",
   "version": "3.6.9"
  }
 },
 "nbformat": 4,
 "nbformat_minor": 2
}
